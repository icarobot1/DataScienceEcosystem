{
 "cells": [
  {
   "cell_type": "markdown",
   "id": "b01e1a2f-f7b4-4ab6-bc32-0ca738db2661",
   "metadata": {
    "tags": []
   },
   "source": [
    "# Data Science Tools and Ecosystem"
   ]
  },
  {
   "cell_type": "markdown",
   "id": "93b18e4c-1543-4595-bb9d-ab2c6ca018d9",
   "metadata": {
    "tags": []
   },
   "source": [
    "In this notebook, Data Science Tools and Ecosystem are summarized."
   ]
  },
  {
   "cell_type": "markdown",
   "id": "b1760051-88c9-4a01-b268-30ce995e907d",
   "metadata": {},
   "source": [
    "**Objectives:**\n",
    "* List popular languages for Data Science.\n",
    "* List commonly used libraries in data science.\n",
    "* List development environment open source tools used in data science.\n",
    "* Demonstrate arithmetic operations."
   ]
  },
  {
   "cell_type": "markdown",
   "id": "59874a1d-8454-4dd1-a161-78e91d115aca",
   "metadata": {},
   "source": [
    "Some of the popular languages that Data Scientists use are :\n",
    "\n",
    "1. Python\n",
    "2. SQL\n",
    "3. R\n",
    "4. Julia"
   ]
  },
  {
   "cell_type": "markdown",
   "id": "c2af80ff-f96a-4fc5-b45a-e760c30127ed",
   "metadata": {},
   "source": [
    "Some of the commonly used libraries used by Data Scientists include :\n",
    "\n",
    "1. Numpy\n",
    "2. Matplotlib\n",
    "3. Pandas\n",
    "4. SciPy"
   ]
  },
  {
   "cell_type": "markdown",
   "id": "efb36bf0-ec60-43e1-b170-f6483d114ba4",
   "metadata": {},
   "source": [
    "| Data Science Tools |\n",
    "|:------------------:|\n",
    "| Jupyter Notebooks  |\n",
    "| RStudio            |\n",
    "| PyTorch            |\n"
   ]
  },
  {
   "cell_type": "markdown",
   "id": "b4c9c679-5f91-42e9-bad8-de3a7ab39448",
   "metadata": {
    "tags": []
   },
   "source": [
    "### Below are a few examples of evaluating arithmetic expressions in Python"
   ]
  },
  {
   "cell_type": "code",
   "execution_count": 5,
   "id": "29b7a095-35bd-40dc-b41a-19c0affeb69d",
   "metadata": {
    "tags": []
   },
   "outputs": [
    {
     "data": {
      "text/plain": [
       "17"
      ]
     },
     "execution_count": 5,
     "metadata": {},
     "output_type": "execute_result"
    }
   ],
   "source": [
    "#This is a simple arithmetic expression to multiply  then add integers\n",
    "(3 * 4) + 5"
   ]
  },
  {
   "cell_type": "code",
   "execution_count": 6,
   "id": "96a5380a-a4ee-4206-8df4-5766cf0e246d",
   "metadata": {
    "tags": []
   },
   "outputs": [
    {
     "data": {
      "text/plain": [
       "3.3333333333333335"
      ]
     },
     "execution_count": 6,
     "metadata": {},
     "output_type": "execute_result"
    }
   ],
   "source": [
    "#This will convert 200 minutes to hours by diving by 60\n",
    "hours = 200 / 60 \n",
    "hours"
   ]
  },
  {
   "cell_type": "markdown",
   "id": "3daf280b-6f89-483c-990c-6c0a1a8c20df",
   "metadata": {},
   "source": [
    "## Author :\n",
    "Ícaro Oliveira de Andrade F.V Solís"
   ]
  },
  {
   "cell_type": "code",
   "execution_count": null,
   "id": "af0857fb-afeb-47d0-aa60-ce783cd1b895",
   "metadata": {},
   "outputs": [],
   "source": []
  }
 ],
 "metadata": {
  "kernelspec": {
   "display_name": "Python",
   "language": "python",
   "name": "conda-env-python-py"
  },
  "language_info": {
   "codemirror_mode": {
    "name": "ipython",
    "version": 3
   },
   "file_extension": ".py",
   "mimetype": "text/x-python",
   "name": "python",
   "nbconvert_exporter": "python",
   "pygments_lexer": "ipython3",
   "version": "3.7.12"
  }
 },
 "nbformat": 4,
 "nbformat_minor": 5
}
